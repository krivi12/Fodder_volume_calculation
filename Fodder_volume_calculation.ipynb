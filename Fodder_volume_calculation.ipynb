{
  "nbformat": 4,
  "nbformat_minor": 0,
  "metadata": {
    "colab": {
      "provenance": [],
      "collapsed_sections": []
    },
    "kernelspec": {
      "name": "python3",
      "display_name": "Python 3"
    },
    "language_info": {
      "name": "python"
    }
  },
  "cells": [
    {
      "cell_type": "markdown",
      "source": [
        "# Fodder volume calculation"
      ],
      "metadata": {
        "id": "3rpUJPTDmmIm"
      }
    },
    {
      "cell_type": "markdown",
      "source": [
        "## Task"
      ],
      "metadata": {
        "id": "IfQfMb_vmvY8"
      }
    },
    {
      "cell_type": "markdown",
      "source": [
        "When live cows enter a meat production facility, their basic needs are seen to up until the very moment of slaughter. As per governmental requirement, the volume of fodder available to the cows must be estimated on a daily basis. Now, because the floor is uneven due to the facility being built on clay ground with bits of wood from a previous civilization, a scan of the floor has been constructed to aid the estimate creation.\n",
        "\n",
        "Assume for this task that the floor is just 1-dimensional and that a given array of floor heights is input to your code. The figure below is meant to illustrate the floor profile with fodder units denoted `F`.\n",
        "\n",
        "```\n",
        ". |\n",
        ". |\n",
        "5 |\n",
        "4 |\n",
        "3 |       #\n",
        "2 |   #FFF##F#\n",
        "1 | #F##F######\n",
        "   ----------------------------\n",
        "```\n",
        "\n",
        "In the figure, we see 6 units of fodder, because there are six `F`'s. The fodder fills the uneven surface of the floor. Now, the input array to your code is the following example in the case above.\n",
        "```\n",
        "Input = [0, 1, 0, 2, 1, 0, 1, 3, 2, 1, 2, 1]\n",
        "```\n",
        "In words, this is a height profile of the floor after the scan. For animal welfare reasons, it's of course enough to come up with an estimate of the minimum amount of fodder, so assume that the fodder behaves like a fluid after being dumped by a truck on the floor. Therefore, 6 is the estimate of the minimum volume of fodder on the floor in the example above.\n",
        "\n",
        "Your task is to make Python code that takes such an input array interpreted as a height profile of a 1-dimensional floor and gives a minimal fodder estimate in return."
      ],
      "metadata": {
        "id": "9Fk5Yw1Wm4gb"
      }
    },
    {
      "cell_type": "markdown",
      "source": [
        "## Solution"
      ],
      "metadata": {
        "id": "mgQGm6JbnLJx"
      }
    },
    {
      "cell_type": "code",
      "execution_count": 1,
      "metadata": {
        "id": "0rwaB133PPfg"
      },
      "outputs": [],
      "source": [
        "from typing import List\n",
        "import numpy as np"
      ]
    },
    {
      "cell_type": "code",
      "source": [
        "def fodder_volume(height: List[int]) -> int:\n",
        "  left_right = []\n",
        "  max_left, max_right, height_counter = -np.inf, -np.inf, 0\n",
        "\n",
        "  for i in range(len(height)):\n",
        "    if max_left < height[i]:\n",
        "      max_left = height[i]\n",
        "    left_right.append(max_left)\n",
        "\n",
        "  for i in reversed(range(len(height))):\n",
        "    if max_right < height[i]:\n",
        "      max_right = height[i]\n",
        "    height_counter += (min(max_right, left_right[i]) - height[i])\n",
        "\n",
        "  return height_counter"
      ],
      "metadata": {
        "id": "maxNmwnD7kJM"
      },
      "execution_count": 2,
      "outputs": []
    },
    {
      "cell_type": "code",
      "source": [
        "Input = [0, 1, 0, 2, 1, 0, 1, 3, 2, 1, 2, 1]\n",
        "assert fodder_volume(Input) == 6"
      ],
      "metadata": {
        "id": "6rE8BBiW7muP"
      },
      "execution_count": 3,
      "outputs": []
    },
    {
      "cell_type": "code",
      "source": [
        "Input_2 = [0, 0, 0, 0, 0, 5, 0, 0, 0, 0, 0, 0]\n",
        "assert fodder_volume(Input_2) == 0"
      ],
      "metadata": {
        "id": "b88WD8-vP9Pr"
      },
      "execution_count": 4,
      "outputs": []
    },
    {
      "cell_type": "code",
      "source": [
        "Input_3 = [0, 0, 0, 6, 0, 5, 0, 0, 0, 0, 0, 0]\n",
        "assert fodder_volume(Input_3) == 5"
      ],
      "metadata": {
        "id": "07Tawjf3P9X8"
      },
      "execution_count": 5,
      "outputs": []
    },
    {
      "cell_type": "code",
      "source": [
        "Input_4 = [4, 3, 2, 1, 0, 0, 0, 0, 0, 0, 0, 0]\n",
        "assert fodder_volume(Input_4) == 0"
      ],
      "metadata": {
        "id": "AhPE0P4xPSE5"
      },
      "execution_count": 6,
      "outputs": []
    },
    {
      "cell_type": "code",
      "source": [
        "Input_5 = []\n",
        "assert fodder_volume(Input_5) == 0"
      ],
      "metadata": {
        "id": "qLt8rsR3mH4O"
      },
      "execution_count": 7,
      "outputs": []
    },
    {
      "cell_type": "code",
      "source": [
        "Input_6 = [0, 1, -1, 1]\n",
        "assert fodder_volume(Input_6) == 2"
      ],
      "metadata": {
        "id": "13TKG6iNdAJ4"
      },
      "execution_count": 8,
      "outputs": []
    }
  ]
}